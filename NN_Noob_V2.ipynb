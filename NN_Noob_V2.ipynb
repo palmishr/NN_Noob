{
 "cells": [
  {
   "cell_type": "markdown",
   "metadata": {
    "toc": "true"
   },
   "source": [
    "# Table of Contents\n",
    " <p><div class=\"lev1\"><a href=\"#Single-Layer-NN\"><span class=\"toc-item-num\">1&nbsp;&nbsp;</span>Single Layer NN</a></div><div class=\"lev3\"><a href=\"#-Variables-\"><span class=\"toc-item-num\">1.0.1&nbsp;&nbsp;</span> Variables </a></div><div class=\"lev1\"><a href=\"#MultiLayer-NN\"><span class=\"toc-item-num\">2&nbsp;&nbsp;</span>MultiLayer NN</a></div>"
   ]
  },
  {
   "cell_type": "markdown",
   "metadata": {},
   "source": [
    " My Extension of code segments accompanied in tutorial originally written by @stephencwelch and  Michael Nielsen "
   ]
  },
  {
   "cell_type": "markdown",
   "metadata": {},
   "source": [
    "# Single Layer NN\n",
    "\n",
    "\n",
    "<h3 align = 'center'> Variables </h3>\n",
    "\n",
    "|Code Symbol | Math Symbol | Definition | Dimensions\n",
    "| :-: | :-: | :-: | :-: |\n",
    "|X|$$X$$|Input Data, each row in an example| (numExamples, inputLayerSize)|\n",
    "|y |$$y$$|target data|(numExamples, outputLayerSize)|\n",
    "|W1 | $$W^{(1)}$$ | Layer 1 weights | (inputLayerSize, hiddenLayerSize) |\n",
    "|W2 | $$W^{(2)}$$ | Layer 2 weights | (hiddenLayerSize, outputLayerSize) |\n",
    "|z2 | $$z^{(2)}$$ | Layer 2 activation | (numExamples, hiddenLayerSize) |\n",
    "|a2 | $$a^{(2)}$$ | Layer 2 activity | (numExamples, hiddenLayerSize) |\n",
    "|z3 | $$z^{(3)}$$ | Layer 3 activation | (numExamples, outputLayerSize) |\n",
    "|J | $$J$$ | Cost | (1, outputLayerSize) |\n",
    "|dJdz3 | $$\\frac{\\partial J}{\\partial z^{(3)} } = \\delta^{(3)}$$ | Partial derivative of cost with respect to $z^{(3)}$ | (numExamples,outputLayerSize)|\n",
    "|dJdW2|$$\\frac{\\partial J}{\\partial W^{(2)}}$$|Partial derivative of cost with respect to $W^{(2)}$|(hiddenLayerSize, outputLayerSize)|\n",
    "|dz3dz2|$$\\frac{\\partial z^{(3)}}{\\partial z^{(2)}}$$|Partial derivative of $z^{(3)}$ with respect to $z^{(2)}$|(numExamples, hiddenLayerSize)|\n",
    "|dJdW1|$$\\frac{\\partial J}{\\partial W^{(1)}}$$|Partial derivative of cost with respect to $W^{(1)}$|(inputLayerSize, hiddenLayerSize)|\n",
    "|delta2|$$\\delta^{(2)}$$|Backpropagating Error 2|(numExamples,hiddenLayerSize)|\n",
    "|delta3|$$\\delta^{(3)}$$|Backpropagating Error 1|(numExamples,outputLayerSize)|"
   ]
  },
  {
   "cell_type": "code",
   "execution_count": 1,
   "metadata": {
    "collapsed": false
   },
   "outputs": [
    {
     "name": "stdout",
     "output_type": "stream",
     "text": [
      "Populating the interactive namespace from numpy and matplotlib\n"
     ]
    }
   ],
   "source": [
    "%pylab inline"
   ]
  },
  {
   "cell_type": "code",
   "execution_count": 2,
   "metadata": {
    "collapsed": true
   },
   "outputs": [],
   "source": [
    "def sigmoid(z):\n",
    "    #Apply sigmoid activation function to scalar, vector, or matrix\n",
    "    return 1/(1+np.exp(-z))"
   ]
  },
  {
   "cell_type": "code",
   "execution_count": 3,
   "metadata": {
    "collapsed": false
   },
   "outputs": [
    {
     "data": {
      "image/png": "[encoded data removed]",
      "text/plain": [
       "<matplotlib.figure.Figure at 0x105580b90>"
      ]
     },
     "metadata": {},
     "output_type": "display_data"
    }
   ],
   "source": [
    "testInput = np.arange(-10,6,0.01)\n",
    "plot(testInput, sigmoid(testInput), linewidth= 2)\n",
    "grid(1)"
   ]
  },
  {
   "cell_type": "code",
   "execution_count": 6,
   "metadata": {
    "collapsed": false
   },
   "outputs": [
    {
     "data": {
      "text/plain": [
       "[array([[ 0.49156343],\n",
       "        [-0.30020719],\n",
       "        [ 0.93900357],\n",
       "        [-0.77100659],\n",
       "        [ 0.0528299 ]]), array([[-0.27297575],\n",
       "        [-0.24875738],\n",
       "        [-0.53937134]])]"
      ]
     },
     "execution_count": 6,
     "metadata": {},
     "output_type": "execute_result"
    }
   ],
   "source": [
    "sizes = [2,5,3]\n",
    "biases = [np.random.randn(y, 1) for y in sizes[1:]]\n",
    "biases\n",
    "weights = [np.random.randn(y, x)\n",
    "                        for x, y in zip(sizes[:-1], sizes[1:])]\n",
    "\n",
    "input_layer_size = sizes[0]\n",
    "input_layer_size\n",
    "output_layer_size = sizes[-1]\n",
    "output_layer_size\n",
    "biases\n",
    "#weights"
   ]
  },
  {
   "cell_type": "code",
   "execution_count": 7,
   "metadata": {
    "collapsed": false
   },
   "outputs": [],
   "source": [
    "class Neural_Network(object):\n",
    "    def __init__(self):        \n",
    "        #Define Hyperparameters\n",
    "        self.inputLayerSize = 2\n",
    "        self.outputLayerSize = 1\n",
    "        self.hiddenLayerSize = 3\n",
    "        \n",
    "        #self.hiddenLayerSize = 3\n",
    "        \n",
    "        #Weights (parameters)\n",
    "        self.W1 = np.random.randn(self.inputLayerSize, self.hiddenLayerSize)\n",
    "        self.W2 = np.random.randn(self.hiddenLayerSize, self.outputLayerSize)\n",
    "        \n",
    "    \n",
    "    def forward(self, X):\n",
    "        #Propagate inputs though network\n",
    "        self.z2 = np.dot(X, self.W1)\n",
    "        self.a2 = self.sigmoid(self.z2)\n",
    "        self.z3 = np.dot(self.a2, self.W2)\n",
    "        yHat = self.sigmoid(self.z3) \n",
    "        return yHat\n",
    "        \n",
    "    def sigmoid(self, z):\n",
    "        #Apply sigmoid activation function to scalar, vector, or matrix\n",
    "        return 1/(1+np.exp(-z))\n",
    "    \n",
    "    def sigmoidPrime(self,z):\n",
    "        #Gradient of sigmoid\n",
    "        return np.exp(-z)/((1+np.exp(-z))**2)\n",
    "    \n",
    "    def costFunction(self, X, y):\n",
    "        #Compute cost for given X,y, use weights already stored in class.\n",
    "        self.yHat = self.forward(X)\n",
    "        J = 0.5*sum((y-self.yHat)**2)\n",
    "        return J\n",
    "        \n",
    "    def costFunctionPrime(self, X, y):\n",
    "        #Compute derivative with respect to W and W2 for a given X and y:\n",
    "        self.yHat = self.forward(X)\n",
    "        \n",
    "        delta3 = np.multiply(-(y-self.yHat), self.sigmoidPrime(self.z3))\n",
    "        dJdW2 = np.dot(self.a2.T, delta3)\n",
    "        \n",
    "        delta2 = np.dot(delta3, self.W2.T)*self.sigmoidPrime(self.z2)\n",
    "        dJdW1 = np.dot(X.T, delta2)  \n",
    "        \n",
    "        return dJdW1, dJdW2"
   ]
  },
  {
   "cell_type": "code",
   "execution_count": 8,
   "metadata": {
    "collapsed": true
   },
   "outputs": [],
   "source": [
    "# X = (hours sleeping, hours studying), y = Score on test\n",
    "X = np.array(([3,5], [5,1], [10,2]), dtype=float)\n",
    "y = np.array(([75], [82], [93]), dtype=float)"
   ]
  },
  {
   "cell_type": "code",
   "execution_count": 9,
   "metadata": {
    "collapsed": true
   },
   "outputs": [],
   "source": [
    "X = X/np.amax(X, axis=0)\n",
    "y = y/100 #Max test score is 100"
   ]
  },
  {
   "cell_type": "code",
   "execution_count": 10,
   "metadata": {
    "collapsed": false
   },
   "outputs": [],
   "source": [
    "NN = Neural_Network()"
   ]
  },
  {
   "cell_type": "code",
   "execution_count": 11,
   "metadata": {
    "collapsed": false
   },
   "outputs": [],
   "source": [
    "yHat = NN.forward(X)"
   ]
  },
  {
   "cell_type": "code",
   "execution_count": 12,
   "metadata": {
    "collapsed": false
   },
   "outputs": [
    {
     "data": {
      "text/plain": [
       "array([[-1.98250252,  1.54348902, -0.92116474],\n",
       "       [ 1.05322078,  1.10353745, -1.8507597 ]])"
      ]
     },
     "execution_count": 12,
     "metadata": {},
     "output_type": "execute_result"
    }
   ],
   "source": [
    "NN.W1"
   ]
  },
  {
   "cell_type": "code",
   "execution_count": 13,
   "metadata": {
    "collapsed": false
   },
   "outputs": [
    {
     "data": {
      "text/plain": [
       "array([[ 0.45847002,  1.56658416, -2.12710913],\n",
       "       [-0.7806071 ,  0.992452  , -0.83073431],\n",
       "       [-1.56121421,  1.984904  , -1.66146863]])"
      ]
     },
     "execution_count": 13,
     "metadata": {},
     "output_type": "execute_result"
    }
   ],
   "source": [
    "NN.z2"
   ]
  },
  {
   "cell_type": "code",
   "execution_count": 14,
   "metadata": {
    "collapsed": false
   },
   "outputs": [
    {
     "data": {
      "text/plain": [
       "array([[ 0.61265116,  0.82729611,  0.10648974],\n",
       "       [ 0.31418906,  0.72957197,  0.30348983],\n",
       "       [ 0.17347248,  0.87920296,  0.15956495]])"
      ]
     },
     "execution_count": 14,
     "metadata": {},
     "output_type": "execute_result"
    }
   ],
   "source": [
    "NN.a2"
   ]
  },
  {
   "cell_type": "code",
   "execution_count": 15,
   "metadata": {
    "collapsed": false
   },
   "outputs": [
    {
     "data": {
      "text/plain": [
       "array([[ 0.61265116,  0.31418906,  0.17347248],\n",
       "       [ 0.82729611,  0.72957197,  0.87920296],\n",
       "       [ 0.10648974,  0.30348983,  0.15956495]])"
      ]
     },
     "execution_count": 15,
     "metadata": {},
     "output_type": "execute_result"
    }
   ],
   "source": [
    "NN.a2.T"
   ]
  },
  {
   "cell_type": "code",
   "execution_count": 16,
   "metadata": {
    "collapsed": false
   },
   "outputs": [
    {
     "data": {
      "text/plain": [
       "array([[ 1.03505786],\n",
       "       [-0.24314471],\n",
       "       [-1.41655308]])"
      ]
     },
     "execution_count": 16,
     "metadata": {},
     "output_type": "execute_result"
    }
   ],
   "source": [
    "NN.W2"
   ]
  },
  {
   "cell_type": "code",
   "execution_count": 17,
   "metadata": {
    "collapsed": false
   },
   "outputs": [
    {
     "data": {
      "text/plain": [
       "array([[ 0.28212835],\n",
       "       [-0.28209716],\n",
       "       [-0.26025171]])"
      ]
     },
     "execution_count": 17,
     "metadata": {},
     "output_type": "execute_result"
    }
   ],
   "source": [
    "NN.z3"
   ]
  },
  {
   "cell_type": "code",
   "execution_count": 18,
   "metadata": {
    "collapsed": false
   },
   "outputs": [
    {
     "data": {
      "text/plain": [
       "array([[ 0.57006794],\n",
       "       [ 0.42993971],\n",
       "       [ 0.43530183]])"
      ]
     },
     "execution_count": 18,
     "metadata": {},
     "output_type": "execute_result"
    }
   ],
   "source": [
    "yHat"
   ]
  },
  {
   "cell_type": "code",
   "execution_count": 19,
   "metadata": {
    "collapsed": false
   },
   "outputs": [
    {
     "data": {
      "text/plain": [
       "<matplotlib.legend.Legend at 0x10510e690>"
      ]
     },
     "execution_count": 19,
     "metadata": {},
     "output_type": "execute_result"
    },
    {
     "data": {
      "image/png": "[encoded data removed]",
      "text/plain": [
       "<matplotlib.figure.Figure at 0x1054efc10>"
      ]
     },
     "metadata": {},
     "output_type": "display_data"
    }
   ],
   "source": [
    "#Compare estimate, yHat, to actually score\n",
    "bar([0,1,2], y, width = 0.35, alpha=0.8)\n",
    "bar([0.35,1.35,2.35],yHat, width = 0.35, color='r', alpha=0.8)\n",
    "grid(1)\n",
    "legend(['y', 'yHat'])"
   ]
  },
  {
   "cell_type": "markdown",
   "metadata": {},
   "source": [
    "We define our cost function as this:\n",
    "\n",
    "$$\n",
    "J = \\sum \\frac{1}{2}(y-\\hat{y})^2 \\tag{5}\n",
    "$$"
   ]
  },
  {
   "cell_type": "code",
   "execution_count": 20,
   "metadata": {
    "collapsed": false
   },
   "outputs": [],
   "source": [
    "import time\n",
    "\n",
    "weightsToTry = np.linspace(-10,10,10000)\n",
    "costs = np.zeros(10000)\n",
    "\n",
    "startTime = time.clock()\n",
    "for i in range(10000):\n",
    "    NN.W1[0,0] = weightsToTry[i]\n",
    "    yHat = NN.forward(X)\n",
    "    costs[i] = 0.5*sum((y-yHat)**2)\n",
    "    \n",
    "endTime = time.clock()"
   ]
  },
  {
   "cell_type": "code",
   "execution_count": 21,
   "metadata": {
    "collapsed": false
   },
   "outputs": [
    {
     "data": {
      "text/plain": [
       "<matplotlib.text.Text at 0x1054b2410>"
      ]
     },
     "execution_count": 21,
     "metadata": {},
     "output_type": "execute_result"
    },
    {
     "data": {
      "image/png": "[encoded data removed]",
      "text/plain": [
       "<matplotlib.figure.Figure at 0x105626b90>"
      ]
     },
     "metadata": {},
     "output_type": "display_data"
    }
   ],
   "source": [
    "plot(weightsToTry, costs)\n",
    "grid(1)\n",
    "ylabel('Cost')\n",
    "xlabel('Weight')"
   ]
  },
  {
   "cell_type": "code",
   "execution_count": 22,
   "metadata": {
    "collapsed": false
   },
   "outputs": [],
   "source": [
    "NN = Neural_Network()"
   ]
  },
  {
   "cell_type": "code",
   "execution_count": 23,
   "metadata": {
    "collapsed": false
   },
   "outputs": [],
   "source": [
    "cost1 = NN.costFunction(X,y)"
   ]
  },
  {
   "cell_type": "code",
   "execution_count": 24,
   "metadata": {
    "collapsed": false
   },
   "outputs": [],
   "source": [
    "dJdW1, dJdW2 = NN.costFunctionPrime(X,y)"
   ]
  },
  {
   "cell_type": "code",
   "execution_count": 25,
   "metadata": {
    "collapsed": true
   },
   "outputs": [],
   "source": [
    "scalar = 3\n",
    "NN.W1 = NN.W1 + scalar*dJdW1\n",
    "NN.W2 = NN.W2 + scalar*dJdW2\n",
    "cost2 = NN.costFunction(X,y)"
   ]
  },
  {
   "cell_type": "code",
   "execution_count": 26,
   "metadata": {
    "collapsed": true
   },
   "outputs": [],
   "source": [
    "dJdW1, dJdW2 = NN.costFunctionPrime(X,y)\n",
    "NN.W1 = NN.W1 - scalar*dJdW1\n",
    "NN.W2 = NN.W2 - scalar*dJdW2\n",
    "cost3 = NN.costFunction(X, y)"
   ]
  },
  {
   "cell_type": "markdown",
   "metadata": {},
   "source": [
    "\n",
    "\n",
    "# MultiLayer NN"
   ]
  },
  {
   "cell_type": "code",
   "execution_count": 4,
   "metadata": {
    "collapsed": false
   },
   "outputs": [],
   "source": [
    "import pickle\n",
    "import gzip\n",
    "import base64\n",
    "\n",
    "def load_data():\n",
    "    f = gzip.open('data/mnist.pkl.gz', 'rb')\n",
    "    training_data, validation_data, test_data = pickle.load((f))\n",
    "    f.close()\n",
    "    return (training_data, validation_data, test_data)\n",
    "\n",
    "def load_data_wrapper():\n",
    "    \"\"\"\n",
    "    ``training_data`` is a list containing 50,000\n",
    "    2-tuples ``(x, y)``.  ``x`` is a 784-dimensional numpy.ndarray\n",
    "    containing the input image.  ``y`` is a 10-dimensional\n",
    "    numpy.ndarray representing the unit vector corresponding to the\n",
    "    correct digit for ``x``.\n",
    "\n",
    "    ``validation_data`` and ``test_data`` are lists containing 10,000\n",
    "    2-tuples ``(x, y)``.  In each case, ``x`` is a 784-dimensional\n",
    "    numpy.ndarry containing the input image, and ``y`` is the\n",
    "    corresponding classification, i.e., the digit values (integers)\n",
    "    corresponding to ``x``.\n",
    "\n",
    "    \"\"\"\n",
    "    tr_d, va_d, te_d = load_data()\n",
    "    training_inputs = [np.reshape(x, (784, 1)) for x in tr_d[0]]\n",
    "    training_results = [vectorized_result(y) for y in tr_d[1]]\n",
    "    training_data = zip(training_inputs, training_results)\n",
    "    validation_inputs = [np.reshape(x, (784, 1)) for x in va_d[0]]\n",
    "    validation_data = zip(validation_inputs, va_d[1])\n",
    "    test_inputs = [np.reshape(x, (784, 1)) for x in te_d[0]]\n",
    "    test_data = zip(test_inputs, te_d[1])\n",
    "    return (training_data, validation_data, test_data)\n",
    "\n",
    "def vectorized_result(j):\n",
    "    \"\"\"This is used to convert a digit\n",
    "    (0...9) into a corresponding desired output from the neural\n",
    "    network.\"\"\"\n",
    "    e = np.zeros((10, 1))\n",
    "    e[j] = 1.0\n",
    "    return e"
   ]
  },
  {
   "cell_type": "code",
   "execution_count": 55,
   "metadata": {
    "collapsed": false
   },
   "outputs": [],
   "source": [
    "class Neural_Network_PM(object):\n",
    "    def __init__(self, arch):        \n",
    "        #Define Hyperparameters\n",
    "        self.num_layers = len(arch)\n",
    "        self.input_layer_size = arch[0]\n",
    "        self.output_layer_size = arch[-1]\n",
    "        self.num_hidden_layers = len(arch)-2\n",
    "        self.costs = []\n",
    "        \n",
    "        #Weights map from Layer n to n-1\n",
    "        self.weights = [np.random.randn(y, x)\n",
    "                        for x, y in zip(arch[:-1], arch[1:])]\n",
    "        \n",
    "    def forward(self, X):\n",
    "        #Return the output of the network if X is the input\n",
    "        for w in zip(self.weights):\n",
    "            X = self.sigmoid(np.dot(w, X))\n",
    "        return X\n",
    "        \n",
    "    def sigmoid(self, z):\n",
    "        #Apply sigmoid activation function to scalar, vector, or matrix\n",
    "        return 1/(1+np.exp(-z))\n",
    "    \n",
    "    def sigmoid_prime(self,z):\n",
    "        #Gradient of sigmoid\n",
    "        return np.exp(-z)/((1+np.exp(-z))**2)\n",
    "    \n",
    "    def cost_function(self, X, y):\n",
    "        #Compute cost for given X,y, use weights already stored in class.\n",
    "        self.yHat = self.forward(X)\n",
    "        J = 0.5*sum((y-self.yHat)**2)\n",
    "        self.costs.append(J) \n",
    "        return J\n",
    "    \n",
    "    def cost_function_by_epoch(self, test_data, n_test):\n",
    "        y_hat = [(np.argmax(n_net.forward(x))) for (x, y) in test_data[0:n_test]]\n",
    "        y = [(y) for (x, y) in test_data[0:n_test]]\n",
    "        #[a - b for a, b in zip([3, 7], [1, 2])]\n",
    "        costs = [0.5*((a - b)**2) for a, b in zip(y, y_hat)]\n",
    "        self.costs.append(sum(costs)/n_test)\n",
    "        return self.costs[-1]\n",
    "    \n",
    "    def SGD_incremental(self, training_data, epochs, learning_rate, test_data=None):\n",
    "        \"\"\"Train the neural network using gradient descent, one sample at a time. \n",
    "        If ``test_data`` is provided then the network will be evaluated against \n",
    "        the test data after each epoch\"\"\"\n",
    "        if test_data: n_test = len(test_data)\n",
    "        n = len(training_data)\n",
    "        for j in xrange(epochs):\n",
    "            random.shuffle(training_data)\n",
    "            for k in xrange(0, n):\n",
    "                next_sample = training_data[k:k+1]\n",
    "                self.process_batch(next_sample, learning_rate)     \n",
    "            if test_data:\n",
    "                print (\"Epoch {0}: Score {1} / {2}\".format(j, self.evaluate(test_data, n_test), n_test))                \n",
    "            else:\n",
    "                print (\"Epoch {0} complete\".format(j))\n",
    "                \n",
    "    def SGD_batchwise(self, training_data, epochs, batch_size, learning_rate,\n",
    "            test_data=None):\n",
    "        \"\"\"Train the neural network using batch-wise \n",
    "        gradient descent. If ``test_data`` is provided then the\n",
    "        network will be evaluated against the test data after each\n",
    "        epoch, and partial progress printed out.\"\"\"\n",
    "        if test_data: n_test = len(test_data)\n",
    "        n = len(training_data)\n",
    "        for j in xrange(epochs):\n",
    "            random.shuffle(training_data)\n",
    "            batches = [\n",
    "                training_data[k:k+batch_size]\n",
    "                for k in xrange(0, n, batch_size)]\n",
    "            for batch in batches:\n",
    "                self.process_batch(batch, learning_rate)\n",
    "            if test_data:\n",
    "                print (\"Epoch {0}: Score {1} / {2}\".format(j, self.evaluate(test_data, n_test), n_test))\n",
    "            else:\n",
    "                print (\"Epoch {0} complete\".format(j))\n",
    " \n",
    "    def GD(self, training_data, epochs, learning_rate, test_data=None):\n",
    "        \"\"\"Train the neural network using batch-wise \n",
    "        gradient descent. If ``test_data`` is provided then the\n",
    "        network will be evaluated against the test data after each\n",
    "        epoch, and partial progress printed out.\"\"\"\n",
    "        if test_data: n_test = len(test_data)\n",
    "        n = len(training_data)\n",
    "        for j in xrange(epochs):\n",
    "            random.shuffle(training_data)\n",
    "            self.process_input(training_data, learning_rate)\n",
    "            if test_data:\n",
    "                print (\"Epoch {0}: Score {1} / {2}\".format(j, self.evaluate(test_data, n_test), n_test))\n",
    "            else:\n",
    "                print (\"Epoch {0} complete\".format(j))\n",
    "                \n",
    "    def process_input(self, batch, learning_rate):\n",
    "        \"\"\"Update the network's weights by applying\n",
    "        gradient descent using backpropagation to a single batch.\n",
    "        \"\"\"\n",
    "        base_w = [np.zeros(w.shape) for w in self.weights]\n",
    "        count=0\n",
    "        eta=learning_rate   \n",
    "        for x, y in batch:\n",
    "            delta_error_w = self.backprop(x, y)\n",
    "            updated_w = [nw+dnw for nw, dnw in zip(base_w, delta_error_w)]\n",
    "            self.weights = [w-(eta/len(batch))*nw\n",
    "                        for w, nw in zip(self.weights, updated_w)]\n",
    "            count=count+1\n",
    "        print (\"Process {0} inputs backprop \".format(count))    \n",
    "                \n",
    "        \n",
    "    def process_batch(self, batch, learning_rate):\n",
    "        \"\"\"Update the network's weights by applying\n",
    "        gradient descent using backpropagation to a single batch.\n",
    "        \"\"\"\n",
    "        base_w = [np.zeros(w.shape) for w in self.weights]\n",
    "        count=0\n",
    "        for x, y in batch:\n",
    "            delta_error_w = self.backprop(x, y)\n",
    "            updated_w = [nw+dnw for nw, dnw in zip(base_w, delta_error_w)]\n",
    "            count=count+1\n",
    "        print (\"Process {0} inputs backprop \".format(count))    \n",
    "        eta=learning_rate   \n",
    "        self.weights = [w-(eta/len(batch))*nw\n",
    "                        for w, nw in zip(self.weights, updated_w)]\n",
    "        \n",
    "    def backprop(self, x, y):\n",
    "        \"\"\"Return ``( delta_w)`` representing the\n",
    "        gradient for the cost function C_x. \"\"\"\n",
    "        delta_w = [np.zeros(w.shape) for w in self.weights]\n",
    "        # feedforward\n",
    "        activation = x\n",
    "        activations = [x] # list to store all the activations, layer by layer\n",
    "        zs = [] # list to store all the activation (z) vectors, layer by layer\n",
    "        for w in (self.weights):\n",
    "            z = np.dot(w, activation)\n",
    "            zs.append(z)\n",
    "            activation = self.sigmoid(z)\n",
    "            activations.append(activation)\n",
    "        \n",
    "        # backward pass\n",
    "        delta = self.cost_derivative(activations[-1], y) * \\\n",
    "            self.sigmoid_prime(zs[-1])\n",
    "        #print \"delta is: \"\n",
    "        #print delta    \n",
    "        delta_w[-1] = np.dot(delta, activations[-2].transpose())\n",
    "\n",
    "        for l in xrange(2, self.num_layers):\n",
    "            z = zs[-l]\n",
    "            sp = self.sigmoid_prime(z)\n",
    "            #print \"sp is: \"\n",
    "            #print sp\n",
    "            #print \"first part of dot operation is: \"\n",
    "            #print self.weights[-l].transpose() \n",
    "            step1 = np.dot(self.weights[-l+1].transpose(), delta)\n",
    "            #print \"step 1 is:\"\n",
    "            #print step1\n",
    "            delta = step1 * sp\n",
    "            delta_w[-l] = np.dot(delta, activations[-l-1].transpose())\n",
    "        return (delta_w)\n",
    "\n",
    "    def evaluate(self, test_data, n_test):\n",
    "        \"\"\"Return the number of test inputs for which the neural\n",
    "        network outputs the correct result. Note that the neural\n",
    "        network's output is assumed to be the index of whichever\n",
    "        neuron in the final layer has the highest activation.\"\"\"\n",
    "        self.cost_function_by_epoch(test_data, n_test)\n",
    "        test_results = [(np.argmax(self.forward(x)), y)\n",
    "                        for (x, y) in test_data]\n",
    "        return sum(int(x == y) for (x, y) in test_results)\n",
    "\n",
    "    def cost_derivative(self, output_activations, y):\n",
    "        \"\"\"Return the vector of partial derivatives \\partial C_x /\n",
    "        \\partial a for the output activations.\"\"\"\n",
    "        return (output_activations-y)          "
   ]
  },
  {
   "cell_type": "code",
   "execution_count": 56,
   "metadata": {
    "collapsed": false
   },
   "outputs": [],
   "source": [
    "n_net = Neural_Network_PM([784, 10, 10])"
   ]
  },
  {
   "cell_type": "code",
   "execution_count": 57,
   "metadata": {
    "collapsed": false
   },
   "outputs": [
    {
     "name": "stdout",
     "output_type": "stream",
     "text": [
      "Weights Matrix:\n",
      "(10, 784)\n",
      "Weights Matrix:\n",
      "(10, 10)\n"
     ]
    },
    {
     "data": {
      "image/png": "[encoded data removed]",
      "text/plain": [
       "<matplotlib.figure.Figure at 0x106813290>"
      ]
     },
     "metadata": {},
     "output_type": "display_data"
    },
    {
     "data": {
      "image/png": "[encoded data removed]",
      "text/plain": [
       "<matplotlib.figure.Figure at 0x1066b7910>"
      ]
     },
     "metadata": {},
     "output_type": "display_data"
    },
    {
     "data": {
      "image/png": "[encoded data removed]",
      "text/plain": [
       "<matplotlib.figure.Figure at 0x107b63c50>"
      ]
     },
     "metadata": {},
     "output_type": "display_data"
    }
   ],
   "source": [
    "for w in n_net.weights :\n",
    "    print \"Weights Matrix:\"\n",
    "    pcolor(w)\n",
    "    colorbar()\n",
    "    print w.shape\n",
    "    plt.matshow(w)\n",
    "    colorbar()"
   ]
  },
  {
   "cell_type": "code",
   "execution_count": 58,
   "metadata": {
    "collapsed": false
   },
   "outputs": [],
   "source": [
    "\n",
    "training_data, validation_data, test_data = load_data_wrapper()"
   ]
  },
  {
   "cell_type": "code",
   "execution_count": 9,
   "metadata": {
    "collapsed": false,
    "run_control": {
     "marked": true
    }
   },
   "outputs": [
    {
     "name": "stdout",
     "output_type": "stream",
     "text": [
      "[ 18.    0.    8.   24.5  32.   18.   32.   18.    4.5   8.    2.   12.5\n",
      "  24.5  24.5   4.5  18.   24.5   4.5   8.   12.5   0.5   0.    2.   32.\n",
      "  18.   40.5  18.    0.5  18.   32.    0.   18.   12.5  12.5   4.5  12.5\n",
      "  24.5  32.    0.5  24.5   8.   12.5   0.5   0.5  12.5  40.5  40.5  24.5\n",
      "  18.   24.5   2.    2.   40.5   0.5   2.   12.5  12.5   2.    0.    4.5\n",
      "   0.   40.5   0.    0.5  40.5  12.5   4.5  40.5   4.5  18.    8.   12.5\n",
      "   0.5  18.   18.    0.   18.   18.   18.    2.    0.5  40.5   0.5  24.5\n",
      "  32.    2.   40.5   4.5   8.   12.5  18.    0.5  40.5   0.    4.5  18.\n",
      "   0.5  40.5   0.    0.    4.5   0.5   4.5   0.5   8.    2.    0.5   4.5\n",
      "  40.5  24.5  12.5  40.5  24.5  24.5  18.   32.    0.    2.    8.   32.\n",
      "  40.5   0.5  12.5   4.5  24.5   4.5   2.    0.   18.   24.5   0.    0.5\n",
      "  24.5  24.5   0.   24.5   2.   18.    8.    0.   32.    0.5  40.5  24.5\n",
      "  40.5   8.   24.5  32.   18.    2.    4.5   2.   32.   24.5   8.    0.5\n",
      "  40.5  18.    2.   24.5  12.5  40.5   0.   32.    0.5   4.5   2.    2.\n",
      "  12.5  18.   12.5   0.   32.    0.    8.   32.    2.   18.    0.    2.\n",
      "   4.5   0.   32.   18.    2.    0.5  18.   18.    4.5   2.   24.5   0.5\n",
      "   8.    0.5   8.   32.   32.   12.5  12.5  18.   32.   40.5   2.    2.\n",
      "  40.5   2.    0.   12.5  12.5   0.5   8.    8.   12.5  40.5   0.5  24.5\n",
      "  32.   40.5   0.5  12.5   8.   40.5  12.5  40.5   4.5  32.    2.   18.\n",
      "  24.5   4.5   2.   24.5   4.5   0.   18.   32.   12.5   4.5  24.5   8.\n",
      "  12.5  24.5  40.5   4.5  24.5  32.    2.   18.   12.5  32.   40.5   8.\n",
      "  12.5  18.   32.   32.    2.   12.5   0.    0.   12.5   0.5  12.5  40.5\n",
      "  24.5  12.5   8.   32.   32.    4.5  12.5   2.   32.    0.   12.5  24.5\n",
      "  12.5  32.    8.    8.   18.    0.5  18.   32.   12.5   8.    4.5   0.5\n",
      "   0.   12.5  32.    8.   18.    0.5  40.5  18.   24.5   8.   32.   24.5\n",
      "   0.5  18.   12.5  12.5  40.5   0.5   0.5  18.   18.   32.    2.   18.\n",
      "   8.    0.    4.5  18.   24.5   4.5  32.   18.    4.5  40.5   2.   24.5\n",
      "  32.    2.   32.   12.5  24.5  12.5  24.5  32.    2.    0.    4.5  32.\n",
      "  32.   24.5  12.5   0.5  32.    2.    2.   12.5   0.5  40.5   2.   18.\n",
      "  32.   18.   32.   40.5   2.    2.   40.5  18.    8.    8.   24.5   2.\n",
      "   4.5   4.5   0.   24.5   0.5  18.    8.   24.5  24.5   8.    4.5  40.5\n",
      "   0.5  24.5   0.   24.5   0.5   0.5   0.5   0.5   2.   12.5   0.   18.\n",
      "  40.5   4.5   4.5  18.   24.5  32.   18.   24.5  24.5   0.   18.   40.5\n",
      "  40.5   8.    2.    0.5  32.   12.5  12.5   4.5  40.5  24.5   0.   32.\n",
      "  12.5   2.   12.5   2.   18.    0.    0.5   0.5  12.5   2.   32.   24.5\n",
      "  32.   24.5  24.5  18.   24.5  18.   24.5  18.    0.   32.    2.   12.5\n",
      "  40.5  18.    8.    8.    0.5   4.5  18.   24.5   4.5   2.    4.5   4.5\n",
      "  18.   24.5   2.    0.5  32.   32.    2.    8.    4.5  12.5   0.    8.\n",
      "  32.   18.   18.   12.5   2.    0.5   0.   32.   32.    4.5   0.   32.\n",
      "  12.5  12.5   8.   12.5  40.5   4.5  24.5  24.5  18.   32.    8.   32.\n",
      "  24.5  40.5  18.    0.5  32.   24.5   4.5   2.   32.    4.5  24.5  18.\n",
      "   0.   40.5  32.   24.5  24.5  40.5   0.5   0. ]\n"
     ]
    }
   ],
   "source": [
    "#costs = [0.5*(sum(y-n_net.forward(x))) for (x, y) in training_data[48000:]]\n",
    "y = [(np.argmax(n_net.forward(x))) for (x, y) in test_data[500:1000]]\n",
    "y_hat = [(y) for (x, y) in test_data[500:1000]]\n",
    "costs = 0.5*((y-y_hat)**2)\n",
    "print costs\n"
   ]
  },
  {
   "cell_type": "code",
   "execution_count": 186,
   "metadata": {
    "collapsed": false,
    "scrolled": true
   },
   "outputs": [],
   "source": [
    "#n_net.SGD_incremental(training_data[40000:], 2, 1.5, test_data=test_data)"
   ]
  },
  {
   "cell_type": "code",
   "execution_count": null,
   "metadata": {
    "collapsed": false,
    "scrolled": true
   },
   "outputs": [],
   "source": [
    "#n_net.SGD_batchwise(training_data[500:], 1000, 1000, 1.5, test_data=test_data)"
   ]
  },
  {
   "cell_type": "code",
   "execution_count": 61,
   "metadata": {
    "collapsed": false
   },
   "outputs": [
    {
     "name": "stdout",
     "output_type": "stream",
     "text": [
      "Process 49000 inputs backprop \n",
      "Epoch 0: Score 8851 / 10000\n",
      "Process 49000 inputs backprop \n",
      "Epoch 1: Score 8851 / 10000\n",
      "Process 49000 inputs backprop \n",
      "Epoch 2: Score 8851 / 10000\n",
      "Process 49000 inputs backprop \n",
      "Epoch 3: Score 8851 / 10000\n"
     ]
    }
   ],
   "source": [
    "n_net.GD(training_data[1000:], 4, 5000, test_data=test_data)"
   ]
  },
  {
   "cell_type": "code",
   "execution_count": 53,
   "metadata": {
    "collapsed": false
   },
   "outputs": [
    {
     "name": "stdout",
     "output_type": "stream",
     "text": [
      "Process 45000 inputs backprop \n"
     ]
    }
   ],
   "source": [
    "X=training_data[5000:]\n",
    "n_net.process_input(X[0:], 2)\n"
   ]
  },
  {
   "cell_type": "code",
   "execution_count": 175,
   "metadata": {
    "collapsed": false,
    "run_control": {
     "marked": true
    }
   },
   "outputs": [],
   "source": [
    "#costs = [0.5*(sum(y-n_net.forward(x))) for (x, y) in training_data[48000:]]\n",
    "y = [(np.argmax(n_net.forward(x))) for (x, y) in test_data[9500:]]\n",
    "y_hat = [(y) for (x, y) in test_data[9500:]]\n",
    "costs = 0.5*((y-y_hat)**2)"
   ]
  },
  {
   "cell_type": "code",
   "execution_count": 176,
   "metadata": {
    "collapsed": false
   },
   "outputs": [
    {
     "data": {
      "text/plain": [
       "<matplotlib.text.Text at 0x1087f8650>"
      ]
     },
     "execution_count": 176,
     "metadata": {},
     "output_type": "execute_result"
    },
    {
     "data": {
      "image/png": "[encoded data removed]",
      "text/plain": [
       "<matplotlib.figure.Figure at 0x109534410>"
      ]
     },
     "metadata": {},
     "output_type": "display_data"
    }
   ],
   "source": [
    "plot(costs)\n",
    "grid(1)\n",
    "xlabel('Iterations')\n",
    "ylabel('Cost')"
   ]
  },
  {
   "cell_type": "code",
   "execution_count": 177,
   "metadata": {
    "collapsed": false
   },
   "outputs": [
    {
     "name": "stdout",
     "output_type": "stream",
     "text": [
      "Weights Matrix:\n",
      "(10, 784)\n",
      "Weights Matrix:\n",
      "(10, 10)\n"
     ]
    },
    {
     "data": {
      "image/png": "[encoded data removed]",
      "text/plain": [
       "<matplotlib.figure.Figure at 0x110cde210>"
      ]
     },
     "metadata": {},
     "output_type": "display_data"
    },
    {
     "data": {
      "image/png": "[encoded data removed]",
      "text/plain": [
       "<matplotlib.figure.Figure at 0x10c484110>"
      ]
     },
     "metadata": {},
     "output_type": "display_data"
    },
    {
     "data": {
      "image/png": "[encoded data removed]",
      "text/plain": [
       "<matplotlib.figure.Figure at 0x1088ae890>"
      ]
     },
     "metadata": {},
     "output_type": "display_data"
    }
   ],
   "source": [
    "for w in n_net.weights :\n",
    "    print \"Weights Matrix:\"\n",
    "    pcolor(w)\n",
    "    colorbar()\n",
    "    print w.shape\n",
    "    plt.matshow(w)\n",
    "    colorbar()"
   ]
  },
  {
   "cell_type": "code",
   "execution_count": 62,
   "metadata": {
    "collapsed": false
   },
   "outputs": [
    {
     "data": {
      "text/plain": [
       "<matplotlib.text.Text at 0x10d77c2d0>"
      ]
     },
     "execution_count": 62,
     "metadata": {},
     "output_type": "execute_result"
    },
    {
     "data": {
      "image/png": "[encoded data removed]",
      "text/plain": [
       "<matplotlib.figure.Figure at 0x107b40c50>"
      ]
     },
     "metadata": {},
     "output_type": "display_data"
    }
   ],
   "source": [
    "plot(n_net.costs)\n",
    "grid(1)\n",
    "xlabel('Iterations')\n",
    "ylabel('Cost')"
   ]
  },
  {
   "cell_type": "code",
   "execution_count": null,
   "metadata": {
    "collapsed": true
   },
   "outputs": [],
   "source": []
  },
  {
   "cell_type": "markdown",
   "metadata": {
    "collapsed": true
   },
   "source": [
    "TODO:\n",
    "-bias vs variance\n",
    "-rbf neural network\n",
    "-svm kernals"
   ]
  }
 ],
 "metadata": {
  "anaconda-cloud": {},
  "kernelspec": {
   "display_name": "Python 2",
   "language": "python",
   "name": "python2"
  },
  "language_info": {
   "codemirror_mode": {
    "name": "ipython",
    "version": 2
   },
   "file_extension": ".py",
   "mimetype": "text/x-python",
   "name": "python",
   "nbconvert_exporter": "python",
   "pygments_lexer": "ipython2",
   "version": "2.7.11"
  },
  "latex_envs": {
   "bibliofile": "biblio.bib",
   "cite_by": "apalike",
   "current_citInitial": 1,
   "eqLabelWithNumbers": true,
   "eqNumInitial": 0
  },
  "toc": {
   "toc_cell": true,
   "toc_number_sections": true,
   "toc_threshold": "6",
   "toc_window_display": true
  }
 },
 "nbformat": 4,
 "nbformat_minor": 0
}
